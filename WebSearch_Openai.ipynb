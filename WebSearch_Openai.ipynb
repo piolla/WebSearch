{
 "cells": [
  {
   "cell_type": "markdown",
   "id": "c0a2a3fe-e64a-48a2-8839-b57b8b4aba8d",
   "metadata": {},
   "source": [
    "# Web Search using openai api \n",
    "- gpt-4o-search-preview\n",
    "- gpt-4o-mini-search-preview"
   ]
  },
  {
   "cell_type": "code",
   "execution_count": 3,
   "id": "f9c737b1-ccd6-41ef-ae8e-e25fed048ef3",
   "metadata": {},
   "outputs": [
    {
     "name": "stdout",
     "output_type": "stream",
     "text": [
      "창원 상남동에서 소고기 맛집으로 많은 댓글과 후기를 받은 세 곳을 소개해 드리겠습니다.\n",
      "\n",
      "**[한우일번가](https://www.google.com/maps/search/%ED%95%9C%EC%9A%B0%EC%9D%BC%EB%B2%88%EA%B0%80%2C+%EC%B0%BD%EC%9B%90%2C+%EB%8C%80%ED%95%9C%EB%AF%BC%EA%B5%AD)**\n",
      "_창원, 대한민국_\n",
      "한우 1+ 및 1++ 등급의 고급 한우를 제공하며, 룸 형태의 인테리어로 회식이나 모임 장소로 적합합니다. 다양한 찬과 함께 고급스러운 분위기를 즐길 수 있습니다.\n",
      "\n",
      "**[소란소란](https://www.google.com/maps/search/%EC%86%8C%EB%9E%80%EC%86%8C%EB%9E%80%2C+%EC%B0%BD%EC%9B%90%2C+%EB%8C%80%ED%95%9C%EB%AF%BC%EA%B5%AD)**\n",
      "_창원, 대한민국_\n",
      "다양한 소고기 부위를 합리적인 가격에 제공하는 곳으로, 가족 단위 방문객들에게 인기가 많습니다. 특히 '소한판' 메뉴는 등심, 살치, 양지, 부채, 토시 등 5가지 부위를 한 번에 맛볼 수 있어 호평을 받고 있습니다.\n",
      "\n",
      "**[한양화로](https://www.google.com/maps/search/%ED%95%9C%EC%96%91%ED%99%94%EB%A1%9C%2C+%EC%B0%BD%EC%9B%90%2C+%EB%8C%80%ED%95%9C%EB%AF%BC%EA%B5%AD)**\n",
      "_창원, 대한민국_\n",
      "가성비 좋은 소고기 화로구이 전문점으로, 회식 장소로 인기가 많습니다. 100g당 6,900원의 합리적인 가격으로 소고기를 즐길 수 있으며, 로데오 주차장 이용 시 1시간 무료 주차가 가능합니다.\n",
      "\n",
      "각 식당의 상세한 정보와 후기는 제공된 링크를 통해 확인하실 수 있습니다. 방문 전에 예약 및 주차 정보를 확인하시기 바랍니다. \n"
     ]
    }
   ],
   "source": [
    "from openai import OpenAI\n",
    "\n",
    "client = OpenAI()\n",
    "\n",
    "completion = client.chat.completions.create(\n",
    "    model=\"gpt-4o-search-preview\",\n",
    "    web_search_options={},\n",
    "    messages=[\n",
    "        {\n",
    "            \"role\": \"user\",\n",
    "            \"content\": \"창원 상남동 소고기 맛집으로 댓글이 많은 곳 3곳\",\n",
    "        }\n",
    "    ],\n",
    ")\n",
    "\n",
    "print(completion.choices[0].message.content)"
   ]
  },
  {
   "cell_type": "code",
   "execution_count": 5,
   "id": "a7085bbe-8462-4ef2-b019-675d13c2f3f4",
   "metadata": {},
   "outputs": [],
   "source": [
    "q_str = \"인천에서 라스베이거스 가는 항공편을 저렴한 가격기준으로 찾아줘\" "
   ]
  },
  {
   "cell_type": "code",
   "execution_count": 7,
   "id": "d0d56864-21d2-4460-9334-daa3adaac596",
   "metadata": {},
   "outputs": [
    {
     "name": "stdout",
     "output_type": "stream",
     "text": [
      "인천국제공항에서 라스베이거스까지의 항공편을 저렴한 가격으로 찾으시려면, 일반적으로 3월이 가장 저렴한 달로 알려져 있습니다. ([skyscanner.co.kr](https://www.skyscanner.co.kr/routes/icn/lasa/incheon-international-to-las-vegas.html?utm_source=openai)) 예를 들어, 2025년 3월 26일 수요일 출발 항공권의 최저가는 약 ₩561,456입니다. ([skyscanner.co.kr](https://www.skyscanner.co.kr/routes/icn/lasa/incheon-international-to-las-vegas.html?utm_source=openai))\n",
      "\n",
      "항공사별로는 집에어(Zipair)가 최저가 ₩514,906부터 시작하는 항공권을 제공하며, 아메리칸 항공은 ₩531,321부터, 에어 프레미아는 ₩540,566부터 시작하는 항공권을 제공합니다. ([kr.trip.com](https://kr.trip.com/flights/airport-icn-city-las?utm_source=openai))\n",
      "\n",
      "직항편의 경우, 델타항공과 대한항공이 인천에서 라스베이거스까지 운항하며, 평균 비행 시간은 약 11시간 20분입니다. ([skyscanner.co.kr](https://www.skyscanner.co.kr/routes/icn/lasa/incheon-international-to-las-vegas.html?utm_source=openai))\n",
      "\n",
      "항공권 가격은 예약 시점, 여행 날짜, 항공사 및 좌석 등급에 따라 변동될 수 있으므로, 여러 항공사와 여행사를 비교하여 최적의 항공권을 찾는 것이 좋습니다. \n"
     ]
    }
   ],
   "source": [
    "from openai import OpenAI\n",
    "\n",
    "client = OpenAI()\n",
    "\n",
    "completion = client.chat.completions.create(\n",
    "    model=\"gpt-4o-search-preview\",\n",
    "    web_search_options={},\n",
    "    messages=[\n",
    "        {\n",
    "            \"role\": \"user\",\n",
    "            \"content\": q_str,\n",
    "        }\n",
    "    ],\n",
    ")\n",
    "\n",
    "print(completion.choices[0].message.content)"
   ]
  }
 ],
 "metadata": {
  "kernelspec": {
   "display_name": "Python [conda env:ceos]",
   "language": "python",
   "name": "conda-env-ceos-py"
  },
  "language_info": {
   "codemirror_mode": {
    "name": "ipython",
    "version": 3
   },
   "file_extension": ".py",
   "mimetype": "text/x-python",
   "name": "python",
   "nbconvert_exporter": "python",
   "pygments_lexer": "ipython3",
   "version": "3.9.21"
  }
 },
 "nbformat": 4,
 "nbformat_minor": 5
}
